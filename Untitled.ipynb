{
 "cells": [
  {
   "cell_type": "markdown",
   "id": "12ef07f2",
   "metadata": {},
   "source": [
    "# Cat vs Dog\n",
    "\n",
    "https://www.kaggle.com/c/dogs-vs-cats-redux-kernels-edition/overview\n",
    "\n",
    "SCORE(LogLoss): 0.03633 (TOP 1%)"
   ]
  },
  {
   "cell_type": "code",
   "execution_count": 1,
   "id": "ea81c5a1",
   "metadata": {},
   "outputs": [],
   "source": [
    "import torch\n",
    "from torch import nn, optim\n",
    "import numpy as np\n",
    "from sklearn.model_selection import train_test_split\n",
    "from model import DogvsCatModel\n",
    "import torch.utils.data as D\n",
    "from sklearn import metrics\n",
    "import pandas as pd\n",
    "import matplotlib.pyplot as plt"
   ]
  },
  {
   "cell_type": "code",
   "execution_count": 2,
   "id": "a4b2e89b",
   "metadata": {},
   "outputs": [
    {
     "name": "stdout",
     "output_type": "stream",
     "text": [
      "cuda\n",
      "accuracy:0.996\n"
     ]
    },
    {
     "data": {
      "image/png": "[encoded data removed]",
      "text/plain": [
       "<Figure size 432x288 with 1 Axes>"
      ]
     },
     "metadata": {
      "needs_background": "light"
     },
     "output_type": "display_data"
    }
   ],
   "source": [
    "MINLOSS = np.inf\n",
    "HISTORY = [[], []]\n",
    "BATCHSIZE = 2048\n",
    "EPOCHS = 100\n",
    "DEVICE = \"cuda\" if torch.cuda.is_available() else \"cpu\"\n",
    "print(DEVICE)\n",
    "\n",
    "xTrain = np.load(\"x_train.npy\")\n",
    "yTrain = np.load(\"y_train.npy\")\n",
    "\n",
    "xTrain, xVal, yTrain, yVal = train_test_split(\n",
    "    xTrain, yTrain, test_size=0.01, random_state=42\n",
    ")\n",
    "\n",
    "xTrain = torch.FloatTensor(xTrain)\n",
    "xVal = torch.FloatTensor(xVal).to(DEVICE)\n",
    "yTrain = torch.FloatTensor(yTrain)\n",
    "yVal = torch.FloatTensor(yVal).unsqueeze(1).to(DEVICE)\n",
    "\n",
    "TrainDataset = D.TensorDataset(xTrain, yTrain)\n",
    "TrainLoader = D.DataLoader(dataset=TrainDataset, batch_size=BATCHSIZE, shuffle=True)\n",
    "\n",
    "model = DogvsCatModel().to(DEVICE)\n",
    "criterion = nn.BCELoss()\n",
    "optimizer = optim.Adam(model.parameters(), lr=1e-3)\n",
    "\n",
    "for epoch in range(EPOCHS):\n",
    "    for xBatch, yBatch in TrainLoader:\n",
    "        model.train()\n",
    "        xBatch = xBatch.to(DEVICE)\n",
    "        yBatch = yBatch.unsqueeze(1).to(DEVICE)\n",
    "        res = model(xBatch)\n",
    "        loss = criterion(res, yBatch)\n",
    "        loss.backward()\n",
    "        optimizer.step()\n",
    "        optimizer.zero_grad()\n",
    "\n",
    "        model.eval()\n",
    "        with torch.no_grad():\n",
    "            res = model(xVal)\n",
    "            val_loss = criterion(res, yVal)\n",
    "        HISTORY[0].append(loss.item())\n",
    "        HISTORY[1].append(val_loss.item())\n",
    "        # print(f\"loss: {loss.item()} val_loss: {val_loss.item()}\")\n",
    "        if val_loss.item() <= MINLOSS:\n",
    "            MINLOSS = val_loss.item()\n",
    "            torch.save(model, \"checkpoint.pt\")\n",
    "\n",
    "model = torch.load(\"checkpoint.pt\")\n",
    "model.eval()\n",
    "yVal = yVal.cpu().numpy()\n",
    "with torch.no_grad():\n",
    "    res = model(xVal, eval=True).cpu().numpy()\n",
    "print(f\"accuracy:{metrics.accuracy_score(res, yVal)}\")\n",
    "plt.plot(HISTORY[0], label=\"loss\")\n",
    "plt.plot(HISTORY[1], label=\"val_loss\")\n",
    "plt.legend()\n",
    "plt.title(\"HISTORY\")\n",
    "plt.show()"
   ]
  },
  {
   "cell_type": "code",
   "execution_count": 3,
   "id": "dda5c741",
   "metadata": {
    "scrolled": true
   },
   "outputs": [],
   "source": [
    "xTest = np.load(\"x_test.npy\")\n",
    "yTest = np.load(\"y_test.npy\")\n",
    "\n",
    "xTest = torch.FloatTensor(xTest)\n",
    "yTest = torch.FloatTensor(yTest)\n",
    "\n",
    "\n",
    "TestDataset = D.TensorDataset(xTest, yTest)\n",
    "TestLoader = D.DataLoader(dataset=TestDataset, batch_size=BATCHSIZE, shuffle=False)\n",
    "\n",
    "submissions = []\n",
    "\n",
    "for xBatch, _ in TestLoader:\n",
    "    xBatch = xBatch.to(DEVICE)\n",
    "    with torch.no_grad():\n",
    "        res = model(xBatch, eval=False).cpu().numpy()\n",
    "        submissions.append(res)\n",
    "submissions = np.concatenate(submissions, axis=0)"
   ]
  },
  {
   "cell_type": "code",
   "execution_count": 4,
   "id": "d05426cb",
   "metadata": {},
   "outputs": [],
   "source": [
    "submissions = pd.DataFrame({\"label\": submissions.reshape(-1)})\n",
    "submissions.index += 1\n",
    "submissions.to_csv(\"submissions.csv\", index_label=\"id\")"
   ]
  },
  {
   "cell_type": "code",
   "execution_count": null,
   "id": "88c9d2bc",
   "metadata": {},
   "outputs": [],
   "source": []
  }
 ],
 "metadata": {
  "kernelspec": {
   "display_name": "Python [conda env:torch]",
   "language": "python",
   "name": "conda-env-torch-py"
  },
  "language_info": {
   "codemirror_mode": {
    "name": "ipython",
    "version": 3
   },
   "file_extension": ".py",
   "mimetype": "text/x-python",
   "name": "python",
   "nbconvert_exporter": "python",
   "pygments_lexer": "ipython3",
   "version": "3.9.6"
  }
 },
 "nbformat": 4,
 "nbformat_minor": 5
}
